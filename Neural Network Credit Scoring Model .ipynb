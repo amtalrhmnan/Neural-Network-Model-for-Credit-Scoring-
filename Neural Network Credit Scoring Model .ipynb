{
 "cells": [
  {
   "cell_type": "markdown",
   "id": "f04a9a85",
   "metadata": {},
   "source": [
    "# Neural Network Credit Scoring Model "
   ]
  },
  {
   "cell_type": "markdown",
   "id": "5a527f8f",
   "metadata": {},
   "source": [
    "## Importing Important Packages"
   ]
  },
  {
   "cell_type": "code",
   "execution_count": 1,
   "id": "d7b85333",
   "metadata": {},
   "outputs": [],
   "source": [
    "import pandas as pd\n",
    "import numpy as np\n",
    "\n",
    "import tensorflow as tf\n",
    "import keras\n",
    "from keras.models import Sequential\n",
    "from keras.layers import InputLayer, Dense\n",
    "from keras.callbacks import ModelCheckpoint\n",
    "\n",
    "import matplotlib.pyplot as plt\n",
    "from numpy import asarray\n"
   ]
  },
  {
   "cell_type": "markdown",
   "id": "97df4feb",
   "metadata": {},
   "source": [
    "## Reading the Data"
   ]
  },
  {
   "cell_type": "code",
   "execution_count": 2,
   "id": "40a28a85",
   "metadata": {},
   "outputs": [
    {
     "data": {
      "text/html": [
       "<div>\n",
       "<style scoped>\n",
       "    .dataframe tbody tr th:only-of-type {\n",
       "        vertical-align: middle;\n",
       "    }\n",
       "\n",
       "    .dataframe tbody tr th {\n",
       "        vertical-align: top;\n",
       "    }\n",
       "\n",
       "    .dataframe thead th {\n",
       "        text-align: right;\n",
       "    }\n",
       "</style>\n",
       "<table border=\"1\" class=\"dataframe\">\n",
       "  <thead>\n",
       "    <tr style=\"text-align: right;\">\n",
       "      <th></th>\n",
       "      <th>Unnamed: 0</th>\n",
       "      <th>SeriousDlqin2yrs</th>\n",
       "      <th>RevolvingUtilizationOfUnsecuredLines</th>\n",
       "      <th>age</th>\n",
       "      <th>NumberOfTime30-59DaysPastDueNotWorse</th>\n",
       "      <th>DebtRatio</th>\n",
       "      <th>MonthlyIncome</th>\n",
       "      <th>NumberOfOpenCreditLinesAndLoans</th>\n",
       "      <th>NumberOfTimes90DaysLate</th>\n",
       "      <th>NumberRealEstateLoansOrLines</th>\n",
       "      <th>NumberOfTime60-89DaysPastDueNotWorse</th>\n",
       "      <th>NumberOfDependents</th>\n",
       "    </tr>\n",
       "  </thead>\n",
       "  <tbody>\n",
       "    <tr>\n",
       "      <th>0</th>\n",
       "      <td>1</td>\n",
       "      <td>1</td>\n",
       "      <td>0.766127</td>\n",
       "      <td>45</td>\n",
       "      <td>2</td>\n",
       "      <td>0.802982</td>\n",
       "      <td>9120.0</td>\n",
       "      <td>13</td>\n",
       "      <td>0</td>\n",
       "      <td>6</td>\n",
       "      <td>0</td>\n",
       "      <td>2.0</td>\n",
       "    </tr>\n",
       "    <tr>\n",
       "      <th>1</th>\n",
       "      <td>2</td>\n",
       "      <td>0</td>\n",
       "      <td>0.957151</td>\n",
       "      <td>40</td>\n",
       "      <td>0</td>\n",
       "      <td>0.121876</td>\n",
       "      <td>2600.0</td>\n",
       "      <td>4</td>\n",
       "      <td>0</td>\n",
       "      <td>0</td>\n",
       "      <td>0</td>\n",
       "      <td>1.0</td>\n",
       "    </tr>\n",
       "    <tr>\n",
       "      <th>2</th>\n",
       "      <td>3</td>\n",
       "      <td>0</td>\n",
       "      <td>0.658180</td>\n",
       "      <td>38</td>\n",
       "      <td>1</td>\n",
       "      <td>0.085113</td>\n",
       "      <td>3042.0</td>\n",
       "      <td>2</td>\n",
       "      <td>1</td>\n",
       "      <td>0</td>\n",
       "      <td>0</td>\n",
       "      <td>0.0</td>\n",
       "    </tr>\n",
       "    <tr>\n",
       "      <th>3</th>\n",
       "      <td>4</td>\n",
       "      <td>0</td>\n",
       "      <td>0.233810</td>\n",
       "      <td>30</td>\n",
       "      <td>0</td>\n",
       "      <td>0.036050</td>\n",
       "      <td>3300.0</td>\n",
       "      <td>5</td>\n",
       "      <td>0</td>\n",
       "      <td>0</td>\n",
       "      <td>0</td>\n",
       "      <td>0.0</td>\n",
       "    </tr>\n",
       "    <tr>\n",
       "      <th>4</th>\n",
       "      <td>5</td>\n",
       "      <td>0</td>\n",
       "      <td>0.907239</td>\n",
       "      <td>49</td>\n",
       "      <td>1</td>\n",
       "      <td>0.024926</td>\n",
       "      <td>63588.0</td>\n",
       "      <td>7</td>\n",
       "      <td>0</td>\n",
       "      <td>1</td>\n",
       "      <td>0</td>\n",
       "      <td>0.0</td>\n",
       "    </tr>\n",
       "  </tbody>\n",
       "</table>\n",
       "</div>"
      ],
      "text/plain": [
       "   Unnamed: 0  SeriousDlqin2yrs  RevolvingUtilizationOfUnsecuredLines  age  \\\n",
       "0           1                 1                              0.766127   45   \n",
       "1           2                 0                              0.957151   40   \n",
       "2           3                 0                              0.658180   38   \n",
       "3           4                 0                              0.233810   30   \n",
       "4           5                 0                              0.907239   49   \n",
       "\n",
       "   NumberOfTime30-59DaysPastDueNotWorse  DebtRatio  MonthlyIncome  \\\n",
       "0                                     2   0.802982         9120.0   \n",
       "1                                     0   0.121876         2600.0   \n",
       "2                                     1   0.085113         3042.0   \n",
       "3                                     0   0.036050         3300.0   \n",
       "4                                     1   0.024926        63588.0   \n",
       "\n",
       "   NumberOfOpenCreditLinesAndLoans  NumberOfTimes90DaysLate  \\\n",
       "0                               13                        0   \n",
       "1                                4                        0   \n",
       "2                                2                        1   \n",
       "3                                5                        0   \n",
       "4                                7                        0   \n",
       "\n",
       "   NumberRealEstateLoansOrLines  NumberOfTime60-89DaysPastDueNotWorse  \\\n",
       "0                             6                                     0   \n",
       "1                             0                                     0   \n",
       "2                             0                                     0   \n",
       "3                             0                                     0   \n",
       "4                             1                                     0   \n",
       "\n",
       "   NumberOfDependents  \n",
       "0                 2.0  \n",
       "1                 1.0  \n",
       "2                 0.0  \n",
       "3                 0.0  \n",
       "4                 0.0  "
      ]
     },
     "execution_count": 2,
     "metadata": {},
     "output_type": "execute_result"
    }
   ],
   "source": [
    "df=pd.read_csv(\"cs-training.csv\",na_values = \"nan\")\n",
    "df.head()"
   ]
  },
  {
   "cell_type": "markdown",
   "id": "2aa94dfb",
   "metadata": {},
   "source": [
    "## Data preprocessing "
   ]
  },
  {
   "cell_type": "code",
   "execution_count": 3,
   "id": "837c2bb6",
   "metadata": {},
   "outputs": [
    {
     "data": {
      "text/plain": [
       "0"
      ]
     },
     "execution_count": 3,
     "metadata": {},
     "output_type": "execute_result"
    }
   ],
   "source": [
    "#check for duplicated data\n",
    "df.duplicated().sum()"
   ]
  },
  {
   "cell_type": "code",
   "execution_count": 4,
   "id": "9f31ef95",
   "metadata": {},
   "outputs": [
    {
     "name": "stdout",
     "output_type": "stream",
     "text": [
      "<class 'pandas.core.frame.DataFrame'>\n",
      "RangeIndex: 150000 entries, 0 to 149999\n",
      "Data columns (total 12 columns):\n",
      " #   Column                                Non-Null Count   Dtype  \n",
      "---  ------                                --------------   -----  \n",
      " 0   Unnamed: 0                            150000 non-null  int64  \n",
      " 1   SeriousDlqin2yrs                      150000 non-null  int64  \n",
      " 2   RevolvingUtilizationOfUnsecuredLines  150000 non-null  float64\n",
      " 3   age                                   150000 non-null  int64  \n",
      " 4   NumberOfTime30-59DaysPastDueNotWorse  150000 non-null  int64  \n",
      " 5   DebtRatio                             150000 non-null  float64\n",
      " 6   MonthlyIncome                         120269 non-null  float64\n",
      " 7   NumberOfOpenCreditLinesAndLoans       150000 non-null  int64  \n",
      " 8   NumberOfTimes90DaysLate               150000 non-null  int64  \n",
      " 9   NumberRealEstateLoansOrLines          150000 non-null  int64  \n",
      " 10  NumberOfTime60-89DaysPastDueNotWorse  150000 non-null  int64  \n",
      " 11  NumberOfDependents                    146076 non-null  float64\n",
      "dtypes: float64(4), int64(8)\n",
      "memory usage: 13.7 MB\n",
      "None\n"
     ]
    }
   ],
   "source": [
    "#handeling missing values\n",
    "print(df.info())"
   ]
  },
  {
   "cell_type": "code",
   "execution_count": 5,
   "id": "99e7a202",
   "metadata": {},
   "outputs": [
    {
     "data": {
      "text/html": [
       "<div>\n",
       "<style scoped>\n",
       "    .dataframe tbody tr th:only-of-type {\n",
       "        vertical-align: middle;\n",
       "    }\n",
       "\n",
       "    .dataframe tbody tr th {\n",
       "        vertical-align: top;\n",
       "    }\n",
       "\n",
       "    .dataframe thead th {\n",
       "        text-align: right;\n",
       "    }\n",
       "</style>\n",
       "<table border=\"1\" class=\"dataframe\">\n",
       "  <thead>\n",
       "    <tr style=\"text-align: right;\">\n",
       "      <th></th>\n",
       "      <th>Column</th>\n",
       "      <th>Number of Null Values</th>\n",
       "      <th>Proportion</th>\n",
       "    </tr>\n",
       "  </thead>\n",
       "  <tbody>\n",
       "    <tr>\n",
       "      <th>0</th>\n",
       "      <td>Unnamed: 0</td>\n",
       "      <td>0</td>\n",
       "      <td>0.000000</td>\n",
       "    </tr>\n",
       "    <tr>\n",
       "      <th>1</th>\n",
       "      <td>SeriousDlqin2yrs</td>\n",
       "      <td>0</td>\n",
       "      <td>0.000000</td>\n",
       "    </tr>\n",
       "    <tr>\n",
       "      <th>2</th>\n",
       "      <td>RevolvingUtilizationOfUnsecuredLines</td>\n",
       "      <td>0</td>\n",
       "      <td>0.000000</td>\n",
       "    </tr>\n",
       "    <tr>\n",
       "      <th>3</th>\n",
       "      <td>age</td>\n",
       "      <td>0</td>\n",
       "      <td>0.000000</td>\n",
       "    </tr>\n",
       "    <tr>\n",
       "      <th>4</th>\n",
       "      <td>NumberOfTime30-59DaysPastDueNotWorse</td>\n",
       "      <td>0</td>\n",
       "      <td>0.000000</td>\n",
       "    </tr>\n",
       "    <tr>\n",
       "      <th>5</th>\n",
       "      <td>DebtRatio</td>\n",
       "      <td>0</td>\n",
       "      <td>0.000000</td>\n",
       "    </tr>\n",
       "    <tr>\n",
       "      <th>6</th>\n",
       "      <td>MonthlyIncome</td>\n",
       "      <td>29731</td>\n",
       "      <td>0.198207</td>\n",
       "    </tr>\n",
       "    <tr>\n",
       "      <th>7</th>\n",
       "      <td>NumberOfOpenCreditLinesAndLoans</td>\n",
       "      <td>0</td>\n",
       "      <td>0.000000</td>\n",
       "    </tr>\n",
       "    <tr>\n",
       "      <th>8</th>\n",
       "      <td>NumberOfTimes90DaysLate</td>\n",
       "      <td>0</td>\n",
       "      <td>0.000000</td>\n",
       "    </tr>\n",
       "    <tr>\n",
       "      <th>9</th>\n",
       "      <td>NumberRealEstateLoansOrLines</td>\n",
       "      <td>0</td>\n",
       "      <td>0.000000</td>\n",
       "    </tr>\n",
       "    <tr>\n",
       "      <th>10</th>\n",
       "      <td>NumberOfTime60-89DaysPastDueNotWorse</td>\n",
       "      <td>0</td>\n",
       "      <td>0.000000</td>\n",
       "    </tr>\n",
       "    <tr>\n",
       "      <th>11</th>\n",
       "      <td>NumberOfDependents</td>\n",
       "      <td>3924</td>\n",
       "      <td>0.026160</td>\n",
       "    </tr>\n",
       "  </tbody>\n",
       "</table>\n",
       "</div>"
      ],
      "text/plain": [
       "                                  Column  Number of Null Values  Proportion\n",
       "0                             Unnamed: 0                      0    0.000000\n",
       "1                       SeriousDlqin2yrs                      0    0.000000\n",
       "2   RevolvingUtilizationOfUnsecuredLines                      0    0.000000\n",
       "3                                    age                      0    0.000000\n",
       "4   NumberOfTime30-59DaysPastDueNotWorse                      0    0.000000\n",
       "5                              DebtRatio                      0    0.000000\n",
       "6                          MonthlyIncome                  29731    0.198207\n",
       "7        NumberOfOpenCreditLinesAndLoans                      0    0.000000\n",
       "8                NumberOfTimes90DaysLate                      0    0.000000\n",
       "9           NumberRealEstateLoansOrLines                      0    0.000000\n",
       "10  NumberOfTime60-89DaysPastDueNotWorse                      0    0.000000\n",
       "11                    NumberOfDependents                   3924    0.026160"
      ]
     },
     "execution_count": 5,
     "metadata": {},
     "output_type": "execute_result"
    }
   ],
   "source": [
    "#Null values tabel\n",
    "\n",
    "null_val_sums = df.isnull().sum()\n",
    "pd.DataFrame({\"Column\": null_val_sums.index, \"Number of Null Values\": null_val_sums.values,\n",
    "             \"Proportion\": null_val_sums.values / len(df) })  "
   ]
  },
  {
   "cell_type": "markdown",
   "id": "ce8b5d72",
   "metadata": {},
   "source": [
    "## Splitting the Data into independent (X) and dependant (y) features "
   ]
  },
  {
   "cell_type": "code",
   "execution_count": 6,
   "id": "bc29fe03",
   "metadata": {},
   "outputs": [],
   "source": [
    "X=df.iloc[:,2:].values\n",
    "y=df.iloc[:,1].values"
   ]
  },
  {
   "cell_type": "code",
   "execution_count": 7,
   "id": "82b9727c",
   "metadata": {},
   "outputs": [],
   "source": [
    "# handeling missing values\n",
    "from sklearn.impute import SimpleImputer \n",
    "\n",
    "\n",
    "imp_mean=SimpleImputer(missing_values= np.nan, strategy=\"median\")\n",
    "X[:,[4,9]]=imp_mean.fit_transform(X[:,[4,9]])"
   ]
  },
  {
   "cell_type": "markdown",
   "id": "08a39bee",
   "metadata": {},
   "source": [
    "#### Data Normalization "
   ]
  },
  {
   "cell_type": "code",
   "execution_count": 8,
   "id": "33096e85",
   "metadata": {},
   "outputs": [],
   "source": [
    "#MinMax scaling \n",
    "from sklearn.preprocessing import MinMaxScaler\n",
    "# define min max scaler\n",
    "scaler = MinMaxScaler()\n",
    "X = scaler.fit_transform(X)"
   ]
  },
  {
   "cell_type": "markdown",
   "id": "d8253130",
   "metadata": {},
   "source": [
    "#### Train Test Split"
   ]
  },
  {
   "cell_type": "code",
   "execution_count": 9,
   "id": "48a47969",
   "metadata": {},
   "outputs": [],
   "source": [
    "from sklearn.model_selection import train_test_split \n",
    "X_train, X_test, y_train, y_test = train_test_split(X, y, test_size=0.2,random_state = 0) "
   ]
  },
  {
   "cell_type": "markdown",
   "id": "91f7a7a1",
   "metadata": {},
   "source": [
    "##  Defining the architecture of the model"
   ]
  },
  {
   "cell_type": "code",
   "execution_count": 10,
   "id": "e5878f7c",
   "metadata": {},
   "outputs": [
    {
     "name": "stdout",
     "output_type": "stream",
     "text": [
      "2.6.0\n"
     ]
    }
   ],
   "source": [
    "# checking the version of keras\n",
    "import keras\n",
    "print(keras.__version__)"
   ]
  },
  {
   "cell_type": "code",
   "execution_count": 11,
   "id": "6816a0dc",
   "metadata": {},
   "outputs": [
    {
     "name": "stdout",
     "output_type": "stream",
     "text": [
      "2.6.0\n"
     ]
    }
   ],
   "source": [
    "# checking the version of tensorflow\n",
    "import tensorflow as tf\n",
    "print(tf.__version__)"
   ]
  },
  {
   "cell_type": "code",
   "execution_count": 12,
   "id": "c1672fd9",
   "metadata": {},
   "outputs": [
    {
     "data": {
      "text/plain": [
       "10"
      ]
     },
     "execution_count": 12,
     "metadata": {},
     "output_type": "execute_result"
    }
   ],
   "source": [
    "# number of input neurons\n",
    "X_train.shape\n",
    "X_train.shape[1] #number of features "
   ]
  },
  {
   "cell_type": "code",
   "execution_count": 13,
   "id": "1c58a445",
   "metadata": {},
   "outputs": [
    {
     "name": "stdout",
     "output_type": "stream",
     "text": [
      "Model: \"sequential\"\n",
      "_________________________________________________________________\n",
      "Layer (type)                 Output Shape              Param #   \n",
      "=================================================================\n",
      "dense (Dense)                (None, 100)               1100      \n",
      "_________________________________________________________________\n",
      "dense_1 (Dense)              (None, 125)               12625     \n",
      "_________________________________________________________________\n",
      "dense_2 (Dense)              (None, 100)               12600     \n",
      "_________________________________________________________________\n",
      "dense_3 (Dense)              (None, 1)                 101       \n",
      "=================================================================\n",
      "Total params: 26,426\n",
      "Trainable params: 26,426\n",
      "Non-trainable params: 0\n",
      "_________________________________________________________________\n",
      "None\n"
     ]
    }
   ],
   "source": [
    "# define hidden layers and neuron in each layer\n",
    "input_neurons = X_train.shape[1]\n",
    "output_neurons = 1\n",
    "number_of_hidden_layers = 2\n",
    "neuron_hidden_layer_1 = 100\n",
    "neuron_hidden_layer_2 = 125\n",
    "neuron_hidden_layer_3 = 100\n",
    "\n",
    "# activation function of different layers\n",
    "\n",
    "#I have picked relu as an activation function for hidden layers, And I have used sigmoid activation function in the final layer\n",
    "\n",
    "model = Sequential()\n",
    "model.add(InputLayer(input_shape=(input_neurons,)))\n",
    "model.add(Dense(units=neuron_hidden_layer_1, activation='relu'))\n",
    "model.add(Dense(units=neuron_hidden_layer_2, activation='relu'))\n",
    "model.add(Dense(units=neuron_hidden_layer_3, activation='relu'))\n",
    "model.add(Dense(units=output_neurons, activation='sigmoid'))\n",
    "\n",
    "# summary of the model\n",
    "print(model.summary())"
   ]
  },
  {
   "cell_type": "markdown",
   "id": "96f26d93",
   "metadata": {},
   "source": [
    "#### Compiling the model"
   ]
  },
  {
   "cell_type": "code",
   "execution_count": 14,
   "id": "7b9dee83",
   "metadata": {},
   "outputs": [],
   "source": [
    "model.compile(loss='binary_crossentropy',optimizer=\"SGD\",metrics=['accuracy'])"
   ]
  },
  {
   "cell_type": "code",
   "execution_count": 16,
   "id": "ffd80004",
   "metadata": {},
   "outputs": [],
   "source": [
    "# specify filepath- this will write a new file for each epoch with the epoch number contained within the filename\n",
    "filepath=\"model_weights.hdf5\"\n",
    "checkpoint = keras.callbacks.ModelCheckpoint(filepath, monitor='val_acc', verbose=0, \n",
    "                                             save_weights_only=False, save_best_only=False, mode='max')"
   ]
  },
  {
   "cell_type": "markdown",
   "id": "7b84117c",
   "metadata": {},
   "source": [
    "## Training the model"
   ]
  },
  {
   "cell_type": "markdown",
   "id": "f0bfc5f2",
   "metadata": {},
   "source": [
    "passing the independent and dependent features for training set for training the model\n",
    "\n",
    "validation data will be evaluated at the end of each epoch\n",
    "\n",
    "setting the epochs as 100\n",
    "\n",
    "storing the trained model in model_history variable which will be used to visualize the training process"
   ]
  },
  {
   "cell_type": "code",
   "execution_count": 18,
   "id": "dba068b4",
   "metadata": {},
   "outputs": [
    {
     "name": "stdout",
     "output_type": "stream",
     "text": [
      "Epoch 1/100\n",
      "1875/1875 [==============================] - 5s 3ms/step - loss: 0.2336 - accuracy: 0.9335 - val_loss: 0.2371 - val_accuracy: 0.9319\n",
      "Epoch 2/100\n",
      "1875/1875 [==============================] - 3s 2ms/step - loss: 0.2333 - accuracy: 0.9335 - val_loss: 0.2367 - val_accuracy: 0.9319\n",
      "Epoch 3/100\n",
      "1875/1875 [==============================] - 4s 2ms/step - loss: 0.2330 - accuracy: 0.9335 - val_loss: 0.2364 - val_accuracy: 0.9323\n",
      "Epoch 4/100\n",
      "1875/1875 [==============================] - 4s 2ms/step - loss: 0.2326 - accuracy: 0.9336 - val_loss: 0.2360 - val_accuracy: 0.9324\n",
      "Epoch 5/100\n",
      "1875/1875 [==============================] - 4s 2ms/step - loss: 0.2322 - accuracy: 0.9336 - val_loss: 0.2363 - val_accuracy: 0.9324\n",
      "Epoch 6/100\n",
      "1875/1875 [==============================] - 4s 2ms/step - loss: 0.2318 - accuracy: 0.9336 - val_loss: 0.2351 - val_accuracy: 0.9324\n",
      "Epoch 7/100\n",
      "1875/1875 [==============================] - 4s 2ms/step - loss: 0.2313 - accuracy: 0.9336 - val_loss: 0.2346 - val_accuracy: 0.9324\n",
      "Epoch 8/100\n",
      "1875/1875 [==============================] - 4s 2ms/step - loss: 0.2307 - accuracy: 0.9336 - val_loss: 0.2339 - val_accuracy: 0.9324\n",
      "Epoch 9/100\n",
      "1875/1875 [==============================] - 5s 3ms/step - loss: 0.2300 - accuracy: 0.9336 - val_loss: 0.2332 - val_accuracy: 0.9324\n",
      "Epoch 10/100\n",
      "1875/1875 [==============================] - 4s 2ms/step - loss: 0.2292 - accuracy: 0.9336 - val_loss: 0.2322 - val_accuracy: 0.9324\n",
      "Epoch 11/100\n",
      "1875/1875 [==============================] - 4s 2ms/step - loss: 0.2282 - accuracy: 0.9336 - val_loss: 0.2311 - val_accuracy: 0.9324\n",
      "Epoch 12/100\n",
      "1875/1875 [==============================] - 4s 2ms/step - loss: 0.2270 - accuracy: 0.9336 - val_loss: 0.2298 - val_accuracy: 0.9324\n",
      "Epoch 13/100\n",
      "1875/1875 [==============================] - 4s 2ms/step - loss: 0.2255 - accuracy: 0.9336 - val_loss: 0.2283 - val_accuracy: 0.9324\n",
      "Epoch 14/100\n",
      "1875/1875 [==============================] - 4s 2ms/step - loss: 0.2237 - accuracy: 0.9336 - val_loss: 0.2260 - val_accuracy: 0.9324\n",
      "Epoch 15/100\n",
      "1875/1875 [==============================] - 5s 3ms/step - loss: 0.2215 - accuracy: 0.9336 - val_loss: 0.2251 - val_accuracy: 0.9324\n",
      "Epoch 16/100\n",
      "1875/1875 [==============================] - 4s 2ms/step - loss: 0.2190 - accuracy: 0.9336 - val_loss: 0.2211 - val_accuracy: 0.9324\n",
      "Epoch 17/100\n",
      "1875/1875 [==============================] - 5s 3ms/step - loss: 0.2162 - accuracy: 0.9336 - val_loss: 0.2179 - val_accuracy: 0.9324\n",
      "Epoch 18/100\n",
      "1875/1875 [==============================] - 5s 3ms/step - loss: 0.2131 - accuracy: 0.9336 - val_loss: 0.2145 - val_accuracy: 0.9324\n",
      "Epoch 19/100\n",
      "1875/1875 [==============================] - 4s 2ms/step - loss: 0.2102 - accuracy: 0.9336 - val_loss: 0.2175 - val_accuracy: 0.9324\n",
      "Epoch 20/100\n",
      "1875/1875 [==============================] - 4s 2ms/step - loss: 0.2072 - accuracy: 0.9336 - val_loss: 0.2100 - val_accuracy: 0.9325\n",
      "Epoch 21/100\n",
      "1875/1875 [==============================] - 5s 3ms/step - loss: 0.2050 - accuracy: 0.9339 - val_loss: 0.2141 - val_accuracy: 0.9327\n",
      "Epoch 22/100\n",
      "1875/1875 [==============================] - 4s 2ms/step - loss: 0.2033 - accuracy: 0.9344 - val_loss: 0.2060 - val_accuracy: 0.9331\n",
      "Epoch 23/100\n",
      "1875/1875 [==============================] - 5s 2ms/step - loss: 0.2021 - accuracy: 0.9351 - val_loss: 0.2035 - val_accuracy: 0.9344\n",
      "Epoch 24/100\n",
      "1875/1875 [==============================] - 6s 3ms/step - loss: 0.2009 - accuracy: 0.9358 - val_loss: 0.2194 - val_accuracy: 0.9344\n",
      "Epoch 25/100\n",
      "1875/1875 [==============================] - 6s 3ms/step - loss: 0.2002 - accuracy: 0.9357 - val_loss: 0.2014 - val_accuracy: 0.9348\n",
      "Epoch 26/100\n",
      "1875/1875 [==============================] - 5s 2ms/step - loss: 0.1998 - accuracy: 0.9358 - val_loss: 0.2041 - val_accuracy: 0.9348\n",
      "Epoch 27/100\n",
      "1875/1875 [==============================] - 5s 3ms/step - loss: 0.1991 - accuracy: 0.9359 - val_loss: 0.1998 - val_accuracy: 0.9345\n",
      "Epoch 28/100\n",
      "1875/1875 [==============================] - 4s 2ms/step - loss: 0.1989 - accuracy: 0.9361 - val_loss: 0.1995 - val_accuracy: 0.9346\n",
      "Epoch 29/100\n",
      "1875/1875 [==============================] - 4s 2ms/step - loss: 0.1982 - accuracy: 0.9358 - val_loss: 0.2075 - val_accuracy: 0.9349\n",
      "Epoch 30/100\n",
      "1875/1875 [==============================] - 5s 2ms/step - loss: 0.1982 - accuracy: 0.9359 - val_loss: 0.2018 - val_accuracy: 0.9342\n",
      "Epoch 31/100\n",
      "1875/1875 [==============================] - 4s 2ms/step - loss: 0.1979 - accuracy: 0.9361 - val_loss: 0.2316 - val_accuracy: 0.9330\n",
      "Epoch 32/100\n",
      "1875/1875 [==============================] - 4s 2ms/step - loss: 0.1976 - accuracy: 0.9362 - val_loss: 0.2081 - val_accuracy: 0.9340\n",
      "Epoch 33/100\n",
      "1875/1875 [==============================] - 4s 2ms/step - loss: 0.1972 - accuracy: 0.9361 - val_loss: 0.2031 - val_accuracy: 0.9350\n",
      "Epoch 34/100\n",
      "1875/1875 [==============================] - 5s 3ms/step - loss: 0.1969 - accuracy: 0.9360 - val_loss: 0.2233 - val_accuracy: 0.9335\n",
      "Epoch 35/100\n",
      "1875/1875 [==============================] - 4s 2ms/step - loss: 0.1967 - accuracy: 0.9360 - val_loss: 0.1974 - val_accuracy: 0.9351\n",
      "Epoch 36/100\n",
      "1875/1875 [==============================] - 4s 2ms/step - loss: 0.1970 - accuracy: 0.9360 - val_loss: 0.2053 - val_accuracy: 0.9347\n",
      "Epoch 37/100\n",
      "1875/1875 [==============================] - 5s 2ms/step - loss: 0.1967 - accuracy: 0.9362 - val_loss: 0.1982 - val_accuracy: 0.9351\n",
      "Epoch 38/100\n",
      "1875/1875 [==============================] - 4s 2ms/step - loss: 0.1961 - accuracy: 0.9362 - val_loss: 0.2014 - val_accuracy: 0.9349\n",
      "Epoch 39/100\n",
      "1875/1875 [==============================] - 4s 2ms/step - loss: 0.1962 - accuracy: 0.9359 - val_loss: 0.1972 - val_accuracy: 0.9351: 0s - l\n",
      "Epoch 40/100\n",
      "1875/1875 [==============================] - 4s 2ms/step - loss: 0.1963 - accuracy: 0.9361 - val_loss: 0.1969 - val_accuracy: 0.9354\n",
      "Epoch 41/100\n",
      "1875/1875 [==============================] - 4s 2ms/step - loss: 0.1958 - accuracy: 0.9362 - val_loss: 0.2031 - val_accuracy: 0.9344\n",
      "Epoch 42/100\n",
      "1875/1875 [==============================] - 5s 2ms/step - loss: 0.1961 - accuracy: 0.9362 - val_loss: 0.1971 - val_accuracy: 0.9351\n",
      "Epoch 43/100\n",
      "1875/1875 [==============================] - 6s 3ms/step - loss: 0.1953 - accuracy: 0.9361 - val_loss: 0.1989 - val_accuracy: 0.9355\n",
      "Epoch 44/100\n",
      "1875/1875 [==============================] - 4s 2ms/step - loss: 0.1957 - accuracy: 0.9363 - val_loss: 0.1964 - val_accuracy: 0.9345\n",
      "Epoch 45/100\n",
      "1875/1875 [==============================] - 5s 3ms/step - loss: 0.1953 - accuracy: 0.9361 - val_loss: 0.2028 - val_accuracy: 0.9340\n",
      "Epoch 46/100\n",
      "1875/1875 [==============================] - 5s 2ms/step - loss: 0.1949 - accuracy: 0.9362 - val_loss: 0.1974 - val_accuracy: 0.9350\n",
      "Epoch 47/100\n",
      "1875/1875 [==============================] - 4s 2ms/step - loss: 0.1949 - accuracy: 0.9362 - val_loss: 0.1967 - val_accuracy: 0.9350\n",
      "Epoch 48/100\n",
      "1875/1875 [==============================] - 4s 2ms/step - loss: 0.1947 - accuracy: 0.9362 - val_loss: 0.1962 - val_accuracy: 0.9353\n",
      "Epoch 49/100\n",
      "1875/1875 [==============================] - 6s 3ms/step - loss: 0.1947 - accuracy: 0.9364 - val_loss: 0.1960 - val_accuracy: 0.9352\n",
      "Epoch 50/100\n",
      "1875/1875 [==============================] - 4s 2ms/step - loss: 0.1944 - accuracy: 0.9360 - val_loss: 0.1972 - val_accuracy: 0.9347\n",
      "Epoch 51/100\n",
      "1875/1875 [==============================] - 4s 2ms/step - loss: 0.1944 - accuracy: 0.9362 - val_loss: 0.1964 - val_accuracy: 0.9354\n",
      "Epoch 52/100\n",
      "1875/1875 [==============================] - 5s 3ms/step - loss: 0.1943 - accuracy: 0.9364 - val_loss: 0.1957 - val_accuracy: 0.9354\n",
      "Epoch 53/100\n",
      "1875/1875 [==============================] - 4s 2ms/step - loss: 0.1941 - accuracy: 0.9361 - val_loss: 0.1959 - val_accuracy: 0.9352\n",
      "Epoch 54/100\n",
      "1875/1875 [==============================] - 5s 2ms/step - loss: 0.1940 - accuracy: 0.9363 - val_loss: 0.2037 - val_accuracy: 0.9352\n",
      "Epoch 55/100\n",
      "1875/1875 [==============================] - 4s 2ms/step - loss: 0.1945 - accuracy: 0.9363 - val_loss: 0.1953 - val_accuracy: 0.9353\n",
      "Epoch 56/100\n",
      "1875/1875 [==============================] - 5s 3ms/step - loss: 0.1940 - accuracy: 0.9363 - val_loss: 0.1986 - val_accuracy: 0.9353\n",
      "Epoch 57/100\n"
     ]
    },
    {
     "name": "stdout",
     "output_type": "stream",
     "text": [
      "1875/1875 [==============================] - 3s 2ms/step - loss: 0.1934 - accuracy: 0.9362 - val_loss: 0.2119 - val_accuracy: 0.9343\n",
      "Epoch 58/100\n",
      "1875/1875 [==============================] - 4s 2ms/step - loss: 0.1936 - accuracy: 0.9363 - val_loss: 0.2014 - val_accuracy: 0.9353\n",
      "Epoch 59/100\n",
      "1875/1875 [==============================] - 4s 2ms/step - loss: 0.1941 - accuracy: 0.9363 - val_loss: 0.2013 - val_accuracy: 0.9347\n",
      "Epoch 60/100\n",
      "1875/1875 [==============================] - 4s 2ms/step - loss: 0.1935 - accuracy: 0.9366 - val_loss: 0.1992 - val_accuracy: 0.9353\n",
      "Epoch 61/100\n",
      "1875/1875 [==============================] - 4s 2ms/step - loss: 0.1940 - accuracy: 0.9363 - val_loss: 0.1953 - val_accuracy: 0.9354\n",
      "Epoch 62/100\n",
      "1875/1875 [==============================] - 5s 2ms/step - loss: 0.1939 - accuracy: 0.9364 - val_loss: 0.1951 - val_accuracy: 0.9351\n",
      "Epoch 63/100\n",
      "1875/1875 [==============================] - 4s 2ms/step - loss: 0.1934 - accuracy: 0.9363 - val_loss: 0.1962 - val_accuracy: 0.9348\n",
      "Epoch 64/100\n",
      "1875/1875 [==============================] - 5s 3ms/step - loss: 0.1938 - accuracy: 0.9363 - val_loss: 0.1957 - val_accuracy: 0.9354\n",
      "Epoch 65/100\n",
      "1875/1875 [==============================] - 4s 2ms/step - loss: 0.1930 - accuracy: 0.9366 - val_loss: 0.1975 - val_accuracy: 0.9353\n",
      "Epoch 66/100\n",
      "1875/1875 [==============================] - 4s 2ms/step - loss: 0.1927 - accuracy: 0.9363 - val_loss: 0.2015 - val_accuracy: 0.9352\n",
      "Epoch 67/100\n",
      "1875/1875 [==============================] - 5s 2ms/step - loss: 0.1930 - accuracy: 0.9363 - val_loss: 0.1957 - val_accuracy: 0.9352\n",
      "Epoch 68/100\n",
      "1875/1875 [==============================] - 4s 2ms/step - loss: 0.1930 - accuracy: 0.9364 - val_loss: 0.1964 - val_accuracy: 0.9353\n",
      "Epoch 69/100\n",
      "1875/1875 [==============================] - 4s 2ms/step - loss: 0.1927 - accuracy: 0.9363 - val_loss: 0.2004 - val_accuracy: 0.9354\n",
      "Epoch 70/100\n",
      "1875/1875 [==============================] - 4s 2ms/step - loss: 0.1927 - accuracy: 0.9365 - val_loss: 0.1953 - val_accuracy: 0.9355\n",
      "Epoch 71/100\n",
      "1875/1875 [==============================] - 4s 2ms/step - loss: 0.1929 - accuracy: 0.9364 - val_loss: 0.1951 - val_accuracy: 0.9352\n",
      "Epoch 72/100\n",
      "1875/1875 [==============================] - 4s 2ms/step - loss: 0.1932 - accuracy: 0.9363 - val_loss: 0.1954 - val_accuracy: 0.9351\n",
      "Epoch 73/100\n",
      "1875/1875 [==============================] - 4s 2ms/step - loss: 0.1928 - accuracy: 0.9364 - val_loss: 0.1982 - val_accuracy: 0.9351\n",
      "Epoch 74/100\n",
      "1875/1875 [==============================] - 4s 2ms/step - loss: 0.1929 - accuracy: 0.9363 - val_loss: 0.1946 - val_accuracy: 0.9353\n",
      "Epoch 75/100\n",
      "1875/1875 [==============================] - 5s 3ms/step - loss: 0.1926 - accuracy: 0.9363 - val_loss: 0.2011 - val_accuracy: 0.9351\n",
      "Epoch 76/100\n",
      "1875/1875 [==============================] - 6s 3ms/step - loss: 0.1925 - accuracy: 0.9365 - val_loss: 0.1977 - val_accuracy: 0.9350\n",
      "Epoch 77/100\n",
      "1875/1875 [==============================] - 4s 2ms/step - loss: 0.1924 - accuracy: 0.9364 - val_loss: 0.1955 - val_accuracy: 0.9354\n",
      "Epoch 78/100\n",
      "1875/1875 [==============================] - 6s 3ms/step - loss: 0.1924 - accuracy: 0.9363 - val_loss: 0.2025 - val_accuracy: 0.9355\n",
      "Epoch 79/100\n",
      "1875/1875 [==============================] - 5s 2ms/step - loss: 0.1926 - accuracy: 0.9365 - val_loss: 0.1948 - val_accuracy: 0.9352\n",
      "Epoch 80/100\n",
      "1875/1875 [==============================] - 4s 2ms/step - loss: 0.1925 - accuracy: 0.9364 - val_loss: 0.1952 - val_accuracy: 0.9353\n",
      "Epoch 81/100\n",
      "1875/1875 [==============================] - 5s 2ms/step - loss: 0.1927 - accuracy: 0.9364 - val_loss: 0.1948 - val_accuracy: 0.9354\n",
      "Epoch 82/100\n",
      "1875/1875 [==============================] - 4s 2ms/step - loss: 0.1918 - accuracy: 0.9366 - val_loss: 0.1965 - val_accuracy: 0.9355\n",
      "Epoch 83/100\n",
      "1875/1875 [==============================] - 4s 2ms/step - loss: 0.1926 - accuracy: 0.9365 - val_loss: 0.2096 - val_accuracy: 0.9347\n",
      "Epoch 84/100\n",
      "1875/1875 [==============================] - 4s 2ms/step - loss: 0.1922 - accuracy: 0.9363 - val_loss: 0.1953 - val_accuracy: 0.9352\n",
      "Epoch 85/100\n",
      "1875/1875 [==============================] - 5s 2ms/step - loss: 0.1917 - accuracy: 0.9364 - val_loss: 0.1944 - val_accuracy: 0.9353\n",
      "Epoch 86/100\n",
      "1875/1875 [==============================] - 4s 2ms/step - loss: 0.1919 - accuracy: 0.9363 - val_loss: 0.1955 - val_accuracy: 0.9354\n",
      "Epoch 87/100\n",
      "1875/1875 [==============================] - 4s 2ms/step - loss: 0.1922 - accuracy: 0.9364 - val_loss: 0.1969 - val_accuracy: 0.9354\n",
      "Epoch 88/100\n",
      "1875/1875 [==============================] - 4s 2ms/step - loss: 0.1918 - accuracy: 0.9364 - val_loss: 0.1959 - val_accuracy: 0.9354\n",
      "Epoch 89/100\n",
      "1875/1875 [==============================] - 4s 2ms/step - loss: 0.1917 - accuracy: 0.9364 - val_loss: 0.1946 - val_accuracy: 0.9352\n",
      "Epoch 90/100\n",
      "1875/1875 [==============================] - 4s 2ms/step - loss: 0.1921 - accuracy: 0.9365 - val_loss: 0.2200 - val_accuracy: 0.9348\n",
      "Epoch 91/100\n",
      "1875/1875 [==============================] - 4s 2ms/step - loss: 0.1918 - accuracy: 0.9366 - val_loss: 0.1959 - val_accuracy: 0.9355\n",
      "Epoch 92/100\n",
      "1875/1875 [==============================] - 4s 2ms/step - loss: 0.1917 - accuracy: 0.9363 - val_loss: 0.1942 - val_accuracy: 0.9354\n",
      "Epoch 93/100\n",
      "1875/1875 [==============================] - 5s 3ms/step - loss: 0.1914 - accuracy: 0.9364 - val_loss: 0.1974 - val_accuracy: 0.9353\n",
      "Epoch 94/100\n",
      "1875/1875 [==============================] - 4s 2ms/step - loss: 0.1917 - accuracy: 0.9364 - val_loss: 0.1947 - val_accuracy: 0.9355\n",
      "Epoch 95/100\n",
      "1875/1875 [==============================] - 4s 2ms/step - loss: 0.1914 - accuracy: 0.9365 - val_loss: 0.1946 - val_accuracy: 0.9356\n",
      "Epoch 96/100\n",
      "1875/1875 [==============================] - 4s 2ms/step - loss: 0.1917 - accuracy: 0.9364 - val_loss: 0.1951 - val_accuracy: 0.9354\n",
      "Epoch 97/100\n",
      "1875/1875 [==============================] - 5s 3ms/step - loss: 0.1914 - accuracy: 0.9366 - val_loss: 0.1973 - val_accuracy: 0.9354\n",
      "Epoch 98/100\n",
      "1875/1875 [==============================] - 5s 2ms/step - loss: 0.1918 - accuracy: 0.9363 - val_loss: 0.1959 - val_accuracy: 0.9353\n",
      "Epoch 99/100\n",
      "1875/1875 [==============================] - 4s 2ms/step - loss: 0.1911 - accuracy: 0.9366 - val_loss: 0.1987 - val_accuracy: 0.9353\n",
      "Epoch 100/100\n",
      "1875/1875 [==============================] - 4s 2ms/step - loss: 0.1915 - accuracy: 0.9367 - val_loss: 0.1945 - val_accuracy: 0.9356\n"
     ]
    }
   ],
   "source": [
    "model_history = model.fit(X_train, y_train, validation_data=(X_test, y_test),\n",
    "                          batch_size = 64,callbacks=[checkpoint],\n",
    "                          initial_epoch=0, epochs=100)"
   ]
  },
  {
   "cell_type": "code",
   "execution_count": 19,
   "id": "ba18dd14",
   "metadata": {},
   "outputs": [
    {
     "name": "stdout",
     "output_type": "stream",
     "text": [
      "Final Loss: 0.19447533786296844, Final Accuracy: 0.9355666637420654\n"
     ]
    }
   ],
   "source": [
    "final_loss, final_accuracy = model.evaluate(X_test, y_test, verbose=0)\n",
    "print('Final Loss: {}, Final Accuracy: {}'.format(final_loss, final_accuracy))  "
   ]
  },
  {
   "cell_type": "markdown",
   "id": "5a0a380e",
   "metadata": {},
   "source": [
    "## Evaluating model performance on validation set"
   ]
  },
  {
   "cell_type": "code",
   "execution_count": 20,
   "id": "4a496a01",
   "metadata": {},
   "outputs": [],
   "source": [
    "# getting predictions for the validation set\n",
    "prediction = model.predict(X_test)\n",
    "prediction = (prediction > 0.5)\n",
    "MOH=np.concatenate((prediction.reshape(len(prediction),1), y_test.reshape(len(y_test),1)),1)"
   ]
  },
  {
   "cell_type": "code",
   "execution_count": 21,
   "id": "2073f19a",
   "metadata": {},
   "outputs": [
    {
     "name": "stdout",
     "output_type": "stream",
     "text": [
      "       prediction  actual\n",
      "0               0       0\n",
      "1               0       0\n",
      "2               0       0\n",
      "3               0       0\n",
      "4               0       0\n",
      "...           ...     ...\n",
      "29995           0       0\n",
      "29996           0       0\n",
      "29997           0       0\n",
      "29998           0       0\n",
      "29999           0       0\n",
      "\n",
      "[30000 rows x 2 columns]\n",
      "<class 'pandas.core.frame.DataFrame'>\n"
     ]
    }
   ],
   "source": [
    "df1 = pd.DataFrame(MOH, columns = ['prediction','actual'])\n",
    "\n",
    "print(df1)\n",
    "print(type(df1))"
   ]
  },
  {
   "cell_type": "code",
   "execution_count": 22,
   "id": "654b5dec",
   "metadata": {},
   "outputs": [],
   "source": [
    "df1.to_csv('out.csv')"
   ]
  },
  {
   "cell_type": "code",
   "execution_count": 23,
   "id": "4604aa3b",
   "metadata": {
    "scrolled": true
   },
   "outputs": [
    {
     "name": "stdout",
     "output_type": "stream",
     "text": [
      "0.9355666666666667\n"
     ]
    }
   ],
   "source": [
    "# calculating the accuracy on validation set\n",
    "from sklearn.metrics import accuracy_score\n",
    "accuracy= accuracy_score(y_test, prediction)\n",
    "print(accuracy)"
   ]
  },
  {
   "cell_type": "code",
   "execution_count": 24,
   "id": "35a9d2ac",
   "metadata": {},
   "outputs": [
    {
     "name": "stdout",
     "output_type": "stream",
     "text": [
      "[[27746   211]\n",
      " [ 1722   321]]\n"
     ]
    }
   ],
   "source": [
    "# Making the Confusion Matrix\n",
    "from sklearn.metrics import confusion_matrix \n",
    "cm = confusion_matrix(y_test, prediction)\n",
    "print(cm)"
   ]
  },
  {
   "cell_type": "markdown",
   "id": "75278cde",
   "metadata": {},
   "source": [
    "## Visualizing the model performance"
   ]
  },
  {
   "cell_type": "code",
   "execution_count": 25,
   "id": "32b55da2",
   "metadata": {},
   "outputs": [
    {
     "data": {
      "image/png": "[encoded data removed]",
      "text/plain": [
       "<Figure size 432x288 with 1 Axes>"
      ]
     },
     "metadata": {
      "needs_background": "light"
     },
     "output_type": "display_data"
    },
    {
     "data": {
      "image/png": "[encoded data removed]",
      "text/plain": [
       "<Figure size 432x288 with 1 Axes>"
      ]
     },
     "metadata": {
      "needs_background": "light"
     },
     "output_type": "display_data"
    }
   ],
   "source": [
    "acc = model_history.history['accuracy']\n",
    "val_acc = model_history.history['val_accuracy']\n",
    "loss = model_history.history['loss']\n",
    "val_loss = model_history.history['val_loss']\n",
    "epochs = range(1, len(acc) + 1)\n",
    "#Train and validation accuracy\n",
    "plt.plot(epochs, acc, 'b', label='Training accurarcy')\n",
    "plt.plot(epochs, val_acc, 'r', label='Validation accurarcy')\n",
    "plt.title('Training and Validation accurarcy')\n",
    "plt.legend()\n",
    "\n",
    "plt.figure()\n",
    "#Train and validation loss\n",
    "plt.plot(epochs, loss, 'b', label='Training loss')\n",
    "plt.plot(epochs, val_loss, 'r', label='Validation loss')\n",
    "plt.title('Training and Validation loss')\n",
    "plt.legend()\n",
    "plt.show()"
   ]
  },
  {
   "cell_type": "code",
   "execution_count": 42,
   "id": "02dc99be",
   "metadata": {},
   "outputs": [
    {
     "name": "stdout",
     "output_type": "stream",
     "text": [
      "\n",
      "Note: you may need to restart the kernel to use updated packages.\n"
     ]
    }
   ],
   "source": [
    "conda list -e > requirements.txt"
   ]
  },
  {
   "cell_type": "code",
   "execution_count": null,
   "id": "0bcaa1d5",
   "metadata": {},
   "outputs": [],
   "source": []
  }
 ],
 "metadata": {
  "kernelspec": {
   "display_name": "Python 3 (ipykernel)",
   "language": "python",
   "name": "python3"
  },
  "language_info": {
   "codemirror_mode": {
    "name": "ipython",
    "version": 3
   },
   "file_extension": ".py",
   "mimetype": "text/x-python",
   "name": "python",
   "nbconvert_exporter": "python",
   "pygments_lexer": "ipython3",
   "version": "3.9.12"
  }
 },
 "nbformat": 4,
 "nbformat_minor": 5
}
